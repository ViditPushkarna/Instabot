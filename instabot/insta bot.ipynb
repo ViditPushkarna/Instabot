{
 "cells": [
  {
   "cell_type": "markdown",
   "metadata": {},
   "source": [
    "# InstaBot \n",
    "### using selenium\n",
    "\n",
    "## This bot will scrape data off different food blogging profiles such as no. of followers, no. of posts in last 3 days, etc"
   ]
  },
  {
   "cell_type": "markdown",
   "metadata": {},
   "source": [
    "# -Vidit Pushkarna"
   ]
  },
  {
   "cell_type": "code",
   "execution_count": 1,
   "metadata": {},
   "outputs": [],
   "source": [
    "#importing important modules\n",
    "import matplotlib.pyplot as plt\n",
    "import pandas as pd\n",
    "import numpy as np\n",
    "from selenium import webdriver\n",
    "from selenium.webdriver.common.keys import Keys\n",
    "import time\n",
    "from selenium.common.exceptions import NoSuchElementException\n",
    "from selenium.common.exceptions import StaleElementReferenceException\n",
    "from selenium.common.exceptions import TimeoutException\n",
    "from selenium.webdriver.support.ui import WebDriverWait\n",
    "from selenium.webdriver.support import expected_conditions as EC\n",
    "from selenium.webdriver.common.by import By\n",
    "from selenium.webdriver.support.select import Select"
   ]
  },
  {
   "cell_type": "code",
   "execution_count": 10,
   "metadata": {},
   "outputs": [],
   "source": [
    "driver = webdriver.Chrome(executable_path = 'D:/chromedriver')\n",
    "driver.maximize_window()\n",
    "#started webdriver"
   ]
  },
  {
   "cell_type": "code",
   "execution_count": 11,
   "metadata": {},
   "outputs": [],
   "source": [
    "driver.get(\"https://www.instagram.com/\")"
   ]
  },
  {
   "cell_type": "markdown",
   "metadata": {},
   "source": [
    "# Login"
   ]
  },
  {
   "cell_type": "code",
   "execution_count": 12,
   "metadata": {},
   "outputs": [],
   "source": [
    "# #username\n",
    "# WebDriverWait(driver, 10).until(EC.presence_of_element_located((By.XPATH, '//input[contains(@class, \"_2hvTZ\")]')))\n",
    "# WebDriverWait(driver, 10).until(EC.presence_of_element_located((By.XPATH, '//button[contains(@class, \"sqdOP-\")]/div[contains(@class, \"Igw0E\")]')))\n",
    "username='SAmple'\n",
    "#password\n",
    "password='Sample'\n",
    "#input username\n",
    "driver.find_element_by_xpath('//input[contains(@class, \"_2hvTZ\")]').send_keys(username)\n",
    "#input password\n",
    "driver.find_elements_by_xpath('//input[contains(@class, \"_2hvTZ\")]')[1].send_keys(password)\n"
   ]
  },
  {
   "cell_type": "code",
   "execution_count": 20,
   "metadata": {},
   "outputs": [],
   "source": [
    "#click login\n",
    "loginbutton = driver.find_elements_by_xpath(\"//button/div[contains(@class,'Igw0E')]\")\n",
    "# driver.find_element_by_xpath('//button[contains(@class, \"_0mzm-\")]/div[contains(@class, \"Igw0E\")]').click()\n",
    "loginbutton[0].click()"
   ]
  },
  {
   "cell_type": "code",
   "execution_count": 28,
   "metadata": {},
   "outputs": [],
   "source": [
    "#in the prompt click \"not now\"\n",
    "# WebDriverWait(driver, 10).until(EC.presence_of_element_located((By.XPATH,'//button[contains(@class, \"HoLwm\")]')))\n",
    "# notnow = driver.find_elements_by_link_text('Not Now')\n",
    "notnow = driver.find_elements_by_xpath('//div/button[contains(@class, \"sqdOP\")]')\n",
    "notnow[1].click()"
   ]
  },
  {
   "cell_type": "code",
   "execution_count": 32,
   "metadata": {},
   "outputs": [],
   "source": [
    "# turn on notifs alert\n",
    "notnow = driver.find_elements_by_xpath('//div/button[contains(@class, \"HoLwm\")]')\n",
    "notnow[0].click()"
   ]
  },
  {
   "cell_type": "markdown",
   "metadata": {},
   "source": [
    "# 1.1 Scraping the instagram handles which will appear on typing \"Food\" in the search bar."
   ]
  },
  {
   "cell_type": "code",
   "execution_count": 53,
   "metadata": {},
   "outputs": [],
   "source": [
    "#searching for \"food\" again in the search bar and storing the top 10 usernames in a list\n",
    "WebDriverWait(driver, 10).until(EC.presence_of_element_located((By.XPATH,'//span[contains(@class, \"TqC_a\")]')))\n",
    "time.sleep(2)\n",
    "driver.find_element_by_xpath('//span[contains(@class, \"TqC_a\")]').click()\n",
    "driver.find_element_by_xpath('//input[contains(@class, \"XTCLo\")]').send_keys('food')\n",
    "# WebDriverWait(driver, 10).until(EC.presence_of_element_located((By.XPATH, '//span[@class=\"Ap253\"]')))\n",
    "time.sleep(3)"
   ]
  },
  {
   "cell_type": "code",
   "execution_count": 54,
   "metadata": {},
   "outputs": [],
   "source": [
    "count=0\n",
    "users=[]\n",
    "# list of top 10 users will be stored in this list.\n",
    "for i in driver.find_elements_by_xpath('//div[@class=\"_7UhW9   xLCgt       qyrsm KV-D4          uL8Hv         \"]'):\n",
    "    user_n=i.get_attribute('innerHTML')\n",
    "    if user_n[0]!='#' and count<10:\n",
    "        users.append(i.get_attribute('innerHTML'))\n",
    "        count+=1\n",
    "driver.find_element_by_xpath(\"//div[contains(@class, 'coreSpriteSearchClear')]\").click()\n",
    "\n",
    "#now i will iterate through all the usernames in this list and do whatever is asked in the question\n",
    "followers=[]\n",
    "#this list will contain the number of followers of 10 users.\n",
    "\n",
    "\n",
    "for user in users:\n",
    "    driver.find_element_by_xpath('//span[contains(@class, \"TqC_a\")]').click()\n",
    "    driver.find_element_by_xpath('//input[contains(@class, \"XTCLo\")]').send_keys(user)\n",
    "    WebDriverWait(driver, 10).until(EC.presence_of_element_located((By.XPATH, \"//div[@class='_7UhW9   xLCgt       qyrsm KV-D4          uL8Hv         ']\")))\n",
    "    driver.find_element_by_xpath('//div[@class=\"_7UhW9   xLCgt       qyrsm KV-D4          uL8Hv         \"]').click()\n",
    "    WebDriverWait(driver, 10).until(EC.presence_of_element_located((By.XPATH, '//a[@class=\"-nal3 \"]/span[@class=\"g47SY \"]')))\n",
    "    followers.append(driver.find_element_by_xpath('//a[@class=\"-nal3 \"]/span[@class=\"g47SY \"]').get_attribute('innerHTML'))\n",
    "    time.sleep(3.2)\n",
    "#now finally we have 2 arrays with usernames of users and their followers as a string. we need to convert this string into...\n",
    "#an integer somehow."
   ]
  },
  {
   "cell_type": "code",
   "execution_count": 56,
   "metadata": {},
   "outputs": [
    {
     "data": {
      "text/plain": [
       "['foodie_therapy2105',\n",
       " 'foodie_incarnate',\n",
       " 'yourfoodlab',\n",
       " 'tasty.foodrecipes',\n",
       " 'foodiebaye',\n",
       " 'delhifoodwalks',\n",
       " 'food',\n",
       " 'foodrush.recipe',\n",
       " 'food.nwonders',\n",
       " 'food_lunatic']"
      ]
     },
     "execution_count": 56,
     "metadata": {},
     "output_type": "execute_result"
    }
   ],
   "source": [
    "users"
   ]
  },
  {
   "cell_type": "code",
   "execution_count": 58,
   "metadata": {},
   "outputs": [
    {
     "data": {
      "text/plain": [
       "[75, 75, 491000.0, '1.7m', '2,429', '52', '75', '75', '583k', '33']"
      ]
     },
     "execution_count": 58,
     "metadata": {},
     "output_type": "execute_result"
    }
   ],
   "source": [
    "followers"
   ]
  },
  {
   "cell_type": "code",
   "execution_count": 66,
   "metadata": {},
   "outputs": [
    {
     "name": "stdout",
     "output_type": "stream",
     "text": [
      "tasty.foodrecipes\n",
      "food.nwonders\n",
      "yourfoodlab\n",
      "foodiebaye\n",
      "foodrush.recipe\n"
     ]
    }
   ],
   "source": [
    "for i in range(len(followers)):\n",
    "    if(type(followers[i])==str):\n",
    "        if(followers[i][-1]=='m'):\n",
    "            followers[i] = float(followers[i][:-1]) * 1000000\n",
    "        elif(followers[i][-1]=='k'):\n",
    "            followers[i] = float(followers[i][:-1]) * 1000\n",
    "        elif(',' in followers[i]):\n",
    "            followers[i]=int(\"\".join(followers[i].split(',')))\n",
    "#         else:\n",
    "#             followers[i]=float(followers[i][:-1])*1000\n",
    "followers=np.array(followers, dtype='int')\n",
    "users=np.array(users)\n",
    "#sorted in ascending order\n",
    "users=users[np.argsort(followers)][::-1]\n",
    "followers=followers[np.argsort(followers)][::-1]\n",
    "#now printing top 5 \n",
    "top5=[]\n",
    "for x in range(5):\n",
    "    print(users[x])\n",
    "    top5.append(users[x])\n",
    "#following is a list of users with highest number of followers among those top 10."
   ]
  },
  {
   "cell_type": "markdown",
   "metadata": {},
   "source": [
    "# 1.2. Finding the number of posts these handles have done in the previous 3 days."
   ]
  },
  {
   "cell_type": "code",
   "execution_count": 174,
   "metadata": {},
   "outputs": [
    {
     "name": "stdout",
     "output_type": "stream",
     "text": [
      "tasty.foodrecipes have done 3 posts in past 3 days\n",
      "food.nwonders have done 3 posts in past 3 days\n",
      "yourfoodlab have done 3 posts in past 3 days\n",
      "foodiebaye have done 3 posts in past 3 days\n",
      "foodrush.recipe have done 3 posts in past 3 days\n"
     ]
    }
   ],
   "source": [
    "#iterating through the list of top 5 users with maximum followers\n",
    "# #and counting the number of posts they have done in past 3 days\n",
    "# WebDriverWait(driver, 10).until(EC.presence_of_element_located((By.XPATH, '//span[contains(@class, \"glyphsSpriteApp_instagram__outline__24__grey_9\")]')))\n",
    "# driver.find_element_by_xpath('//span[contains(@class, \"glyphsSpriteApp_instagram__outline__24__grey_9\")]').click()\n",
    "no_of_posts=[]\n",
    "for user in top5:\n",
    "    time.sleep(3)\n",
    "    print(user, end=' ')\n",
    "    driver.find_element_by_xpath('//span[contains(@class, \"TqC_a\")]').click()\n",
    "    driver.find_element_by_xpath('//input[contains(@class, \"XTCLo\")]').send_keys(user)\n",
    "    WebDriverWait(driver, 10).until(EC.presence_of_element_located((By.XPATH, '//div[@class=\"_7UhW9   xLCgt       qyrsm KV-D4          uL8Hv         \"]')))\n",
    "    driver.find_element_by_xpath('//div[@class=\"_7UhW9   xLCgt       qyrsm KV-D4          uL8Hv         \"]').click()\n",
    "    WebDriverWait(driver, 10).until(EC.presence_of_element_located((By.XPATH, '//div[@class=\"v1Nh3 kIKUG  _bz0w\"]')))\n",
    "    time.sleep(1)\n",
    "    count=0\n",
    "    poststs = driver.find_elements_by_xpath('//div[@class=\"v1Nh3 kIKUG  _bz0w\"]')\n",
    "    for i in range(len(driver.find_elements_by_xpath('//div[@class=\"v1Nh3 kIKUG  _bz0w\"]'))):\n",
    "        poststs[i].click()\n",
    "        WebDriverWait(driver, 10).until(EC.presence_of_element_located((By.XPATH, '//time[contains(@class, \"Nzb55\")]')))\n",
    "        time_string=driver.find_element_by_xpath('//time[contains(@class, \"Nzb55\")]').get_attribute('innerHTML')\n",
    "        if time_string[-1] in ['h', 's']:\n",
    "            count+=1\n",
    "        elif time_string[-1]=='d' and int(time_string[:-1])<=3:\n",
    "            count+=1\n",
    "        else:\n",
    "            close = driver.find_element_by_xpath('//div[@class= \"                     Igw0E     IwRSH      eGOV_         _4EzTm                                                                                  BI4qX            qJPeX            fm1AK   TxciK yiMZG\"]/button')\n",
    "            close.click()\n",
    "#             driver.back()\n",
    "            break\n",
    "        close = driver.find_element_by_xpath('//div[@class= \"                     Igw0E     IwRSH      eGOV_         _4EzTm                                                                                  BI4qX            qJPeX            fm1AK   TxciK yiMZG\"]/button')\n",
    "        close.click()\n",
    "#         driver.back()\n",
    "        time.sleep(3)\n",
    "        \n",
    "    print(\"have done\", count, \"posts in past 3 days\")\n",
    "    no_of_posts.append(count)"
   ]
  },
  {
   "cell_type": "markdown",
   "metadata": {},
   "source": [
    "# 1.3. Plotting Graph"
   ]
  },
  {
   "cell_type": "code",
   "execution_count": 176,
   "metadata": {},
   "outputs": [
    {
     "name": "stderr",
     "output_type": "stream",
     "text": [
      "<ipython-input-176-e487687b2d31>:4: MatplotlibDeprecationWarning: Using a string of single character colors as a color sequence is deprecated. Use an explicit list instead.\n",
      "  plt.bar(users, followers, color='rbycg')\n"
     ]
    },
    {
     "data": {
      "text/plain": [
       "<Figure size 432x288 with 0 Axes>"
      ]
     },
     "metadata": {},
     "output_type": "display_data"
    },
    {
     "data": {
      "image/png": "[encoded data removed]",
      "text/plain": [
       "<Figure size 720x504 with 1 Axes>"
      ]
     },
     "metadata": {
      "needs_background": "light"
     },
     "output_type": "display_data"
    },
    {
     "name": "stderr",
     "output_type": "stream",
     "text": [
      "<ipython-input-176-e487687b2d31>:16: MatplotlibDeprecationWarning: Using a string of single character colors as a color sequence is deprecated. Use an explicit list instead.\n",
      "  plt.bar(top5, no_of_posts, color='rbycg')\n"
     ]
    },
    {
     "data": {
      "text/plain": [
       "<Figure size 432x288 with 0 Axes>"
      ]
     },
     "metadata": {},
     "output_type": "display_data"
    },
    {
     "data": {
      "image/png": "[encoded data removed]",
      "text/plain": [
       "<Figure size 720x504 with 1 Axes>"
      ]
     },
     "metadata": {
      "needs_background": "light"
     },
     "output_type": "display_data"
    }
   ],
   "source": [
    "#plotting a graph between those 10 users and the number of followers\n",
    "plt.subplots(0, 0)\n",
    "plt.figure(figsize=(10, 7))\n",
    "plt.bar(users, followers, color='rbycg')\n",
    "plt.xticks(rotation=45, size=12)\n",
    "plt.yticks(size=12)\n",
    "plt.title('Users versus numberof followers', size=12)\n",
    "plt.xlabel('users--->', size=12)\n",
    "plt.ylabel('followers--->', size=12)\n",
    "plt.grid()\n",
    "plt.show()\n",
    "\n",
    "#graph between top 5 users and the number of posts\n",
    "plt.subplots(0, 1)\n",
    "plt.figure(figsize=(10, 7))\n",
    "plt.bar(top5, no_of_posts, color='rbycg')\n",
    "plt.xticks(rotation=45, size=12)\n",
    "plt.yticks(size=12)\n",
    "plt.title('Users versus number of posts', size=12)\n",
    "plt.xlabel('users--->', size=12)\n",
    "plt.ylabel('number of posts--->', size=12)\n",
    "plt.grid()\n",
    "plt.show()"
   ]
  },
  {
   "cell_type": "markdown",
   "metadata": {},
   "source": [
    "# 2.1. Opening the 5 handles I obtained in the last question, and scraping the content of the first 10 posts of each handle."
   ]
  },
  {
   "cell_type": "code",
   "execution_count": 177,
   "metadata": {},
   "outputs": [],
   "source": [
    "#the idea is to visit each page and go to each of the 10 posts and scrape the content and hashtags from there and store them in the\n",
    "#separate lists\n",
    "# WebDriverWait(driver, 10).until(EC.presence_of_element_located((By.XPATH, '//span[contains(@class, \"glyphsSpriteApp_instagram__outline__24__grey_9\")]')))\n",
    "# driver.find_element_by_xpath('//span[contains(@class, \"glyphsSpriteApp_instagram__outline__24__grey_9\")]').click()\n",
    "content=[]\n",
    "hashtags=[]\n",
    "for user in top5:\n",
    "    time.sleep(3)\n",
    "    driver.find_element_by_xpath('//span[contains(@class, \"TqC_a\")]').click()\n",
    "    driver.find_element_by_xpath('//input[contains(@class, \"XTCLo\")]').send_keys(user)\n",
    "    WebDriverWait(driver, 10).until(EC.presence_of_element_located((By.XPATH, '//div[@class=\"_7UhW9   xLCgt       qyrsm KV-D4          uL8Hv         \"]')))\n",
    "    driver.find_element_by_xpath('//div[@class=\"_7UhW9   xLCgt       qyrsm KV-D4          uL8Hv         \"]').click()\n",
    "    WebDriverWait(driver, 10).until(EC.presence_of_element_located((By.XPATH, '//div[@class=\"_9AhH0\"]')))\n",
    "    time.sleep(1)\n",
    "    count=0\n",
    "    for i in driver.find_elements_by_xpath('//div[@class=\"_9AhH0\"]'):\n",
    "        i.click()\n",
    "        WebDriverWait(driver, 10).until(EC.presence_of_element_located((By.XPATH, '//div[contains(@class, \"C4VMK\")]')))\n",
    "        content.append(driver.find_element_by_xpath('//div[contains(@class, \"C4VMK\")]/span').get_attribute('textContent'))\n",
    "        for hashes in driver.find_elements_by_xpath('//div[contains(@class, \"C4VMK\")]/span/a'):\n",
    "            hashtags.append(hashes.get_attribute('innerHTML'))\n",
    "        count+=1\n",
    "        if count>=10:\n",
    "            close = driver.find_element_by_xpath('//div[@class= \"                     Igw0E     IwRSH      eGOV_         _4EzTm                                                                                  BI4qX            qJPeX            fm1AK   TxciK yiMZG\"]/button')\n",
    "            close.click()\n",
    "#             driver.back()\n",
    "            break\n",
    "        close = driver.find_element_by_xpath('//div[@class= \"                     Igw0E     IwRSH      eGOV_         _4EzTm                                                                                  BI4qX            qJPeX            fm1AK   TxciK yiMZG\"]/button')\n",
    "        close.click()\n",
    "#         driver.back()\n",
    "        time.sleep(1)\n",
    "#finally i have two lists one named hashtags which contains all the hashtags, but unfortunately it also contains some usernames too.\n",
    "#wee nee to filter them. and we also have a list named \"content\" which contains all the content of the perticular post"
   ]
  },
  {
   "cell_type": "code",
   "execution_count": 178,
   "metadata": {},
   "outputs": [
    {
     "name": "stdout",
     "output_type": "stream",
     "text": [
      "Tag/Share a chowmein lover💝#reels #instadaily #reelsinsta #reelsofinstagram #travel #reel #viralreels #photography #love #instagramreels #reelsviral #instagram #influencer #explore #trendinginstagood #trend #reelsvideo #video #viral #instareels #instagramvideo #instavideo #reelsinstagram #tiktok #memes #followforfollowback\n",
      "-------------------------------------------------------------------------------------------------------------\n",
      "Every Girl's love. TAG/SHARE a foodie ❤#reels #instadaily #reelsinsta #reelsofinstagram #travel #reel #viralreels #photography #love #instagramreels #reelsviral #instagram #influencer #explore #trendinginstagood #trend #reelsvideo #video #viral #instareels #instagramvideo #memes deo #reelsinstagram #tiktok #reelkarofeelkaro\n",
      "-------------------------------------------------------------------------------------------------------------\n",
      "Tag/Share a momos lover💝#reels #instadaily #reelsinsta #reelsofinstagram #travel #reel #viralreels #photography #love #instagramreels #reelsviral #instagram #influencer #explore #trendinginstagood #trend #reelsvideo #video #viral #instareels #instagramvideo #instavideo #reelsinstagram #tiktok #memes #momos\n",
      "-------------------------------------------------------------------------------------------------------------\n",
      "Tag/share Besan Ladoo lover💝#reels #instadaily #reelsinsta #reelsofinstagram #travel #reel #viralreels #photography #love #instagramreels #reelsviral #instagram #influencer #explore #trendinginstagood #trend #reelsvideo #video #viral #instareels #instagramvideo #instavideo #reelsinstagram #tiktok #memes #followforfollowback\n",
      "-------------------------------------------------------------------------------------------------------------\n",
      "Coconut Stuffed Idli | Rajo special#tastyfoodrecipies #FOODIESOFINSTAGRAM #cookwithme #foodbloggers#foodphotographer #foodphotography #followforfollowback #followｍe #hashtags #hashtag #foodstagram #youtube #instagram #foodstylist #eatingfortheinsta #easytomake #foodlover #foodie #likeit #delhiblogger #bloggersofinstagram #insta #igtv #igtvfollow\n",
      "-------------------------------------------------------------------------------------------------------------\n",
      "Thank you my insta family for 2k followers. Plz keep supporting me😊💝#reels #instadaily #reelsinsta #reelsofinstagram #travel #reel #viralreels #photography #love #instagramreels #reelsviral #instagram #influencer #explore #trendinginstagood #trend #reelsvideo #video #viral #instareels #instagramvideo #instavideo #reelsinstagram #tiktok #memes #followforfollowback\n",
      "-------------------------------------------------------------------------------------------------------------\n",
      "Chandrakanti pitha recipe | Rajo special#instagood #instagram #explorepage #blogger #follow4followback #trending #video #instagramers #youtube #trend #comment #monday #reelsinstagram #share #foryou #influencer #fyp #youtuber #facebook #tv #instalife #socialmedia #hashtag #instagrammers #foryoupage #famous #entertainment #videos #viralvideos #followforfollowback\n",
      "-------------------------------------------------------------------------------------------------------------\n",
      "Tag/share a Chat lover❤#reels #instadaily #reelsinsta #reelsofinstagram #travel #reel #viralreels #photography #love #instagramreels #reelsviral #instagram #influencer #explore #trendinginstagood #trend #reelsvideo #video #viral #instareels #instagramvideo #instavideo #reelsinstagram #tiktok #memes #followforfollowback\n",
      "-------------------------------------------------------------------------------------------------------------\n",
      "Tag/share a maggie lover❤#reels #instadaily #reelsinsta #reelsofinstagram #travel #reel #viralreels #photography #love #instagramreels #reelsviral #instagram #influencer #explore #trendinginstagood #trend #reelsvideo #video #viral #instareels #instagramvideo #instavideo #reelsinstagram #tiktok #memes\n",
      "-------------------------------------------------------------------------------------------------------------\n",
      "Tag/share your kofta partner❤#reels #instadaily #reelsinsta #reelsofinstagram #travel #reel #viralreels #photography #love #instagramreels #reelsviral #instagram #influencer #explore #trendinginstagood #trend #reelsvideo #video #viral #instareels #instagramvideo #instavideo #reelsinstagram #tiktok #memes\n",
      "-------------------------------------------------------------------------------------------------------------\n",
      "Tag/Share a chowmein lover💝#reels #instadaily #reelsinsta #reelsofinstagram #travel #reel #viralreels #photography #love #instagramreels #reelsviral #instagram #influencer #explore #trendinginstagood #trend #reelsvideo #video #viral #instareels #instagramvideo #instavideo #reelsinstagram #tiktok #memes #followforfollowback\n",
      "-------------------------------------------------------------------------------------------------------------\n",
      "Every Girl's love. TAG/SHARE a foodie ❤#reels #instadaily #reelsinsta #reelsofinstagram #travel #reel #viralreels #photography #love #instagramreels #reelsviral #instagram #influencer #explore #trendinginstagood #trend #reelsvideo #video #viral #instareels #instagramvideo #memes deo #reelsinstagram #tiktok #reelkarofeelkaro\n",
      "-------------------------------------------------------------------------------------------------------------\n",
      "Tag/Share a momos lover💝#reels #instadaily #reelsinsta #reelsofinstagram #travel #reel #viralreels #photography #love #instagramreels #reelsviral #instagram #influencer #explore #trendinginstagood #trend #reelsvideo #video #viral #instareels #instagramvideo #instavideo #reelsinstagram #tiktok #memes #momos\n",
      "-------------------------------------------------------------------------------------------------------------\n",
      "Tag/share Besan Ladoo lover💝#reels #instadaily #reelsinsta #reelsofinstagram #travel #reel #viralreels #photography #love #instagramreels #reelsviral #instagram #influencer #explore #trendinginstagood #trend #reelsvideo #video #viral #instareels #instagramvideo #instavideo #reelsinstagram #tiktok #memes #followforfollowback\n",
      "-------------------------------------------------------------------------------------------------------------\n",
      "Coconut Stuffed Idli | Rajo special#tastyfoodrecipies #FOODIESOFINSTAGRAM #cookwithme #foodbloggers#foodphotographer #foodphotography #followforfollowback #followｍe #hashtags #hashtag #foodstagram #youtube #instagram #foodstylist #eatingfortheinsta #easytomake #foodlover #foodie #likeit #delhiblogger #bloggersofinstagram #insta #igtv #igtvfollow\n",
      "-------------------------------------------------------------------------------------------------------------\n",
      "Thank you my insta family for 2k followers. Plz keep supporting me😊💝#reels #instadaily #reelsinsta #reelsofinstagram #travel #reel #viralreels #photography #love #instagramreels #reelsviral #instagram #influencer #explore #trendinginstagood #trend #reelsvideo #video #viral #instareels #instagramvideo #instavideo #reelsinstagram #tiktok #memes #followforfollowback\n",
      "-------------------------------------------------------------------------------------------------------------\n",
      "Chandrakanti pitha recipe | Rajo special#instagood #instagram #explorepage #blogger #follow4followback #trending #video #instagramers #youtube #trend #comment #monday #reelsinstagram #share #foryou #influencer #fyp #youtuber #facebook #tv #instalife #socialmedia #hashtag #instagrammers #foryoupage #famous #entertainment #videos #viralvideos #followforfollowback\n",
      "-------------------------------------------------------------------------------------------------------------\n",
      "Tag/share a Chat lover❤#reels #instadaily #reelsinsta #reelsofinstagram #travel #reel #viralreels #photography #love #instagramreels #reelsviral #instagram #influencer #explore #trendinginstagood #trend #reelsvideo #video #viral #instareels #instagramvideo #instavideo #reelsinstagram #tiktok #memes #followforfollowback\n",
      "-------------------------------------------------------------------------------------------------------------\n",
      "Tag/share a maggie lover❤#reels #instadaily #reelsinsta #reelsofinstagram #travel #reel #viralreels #photography #love #instagramreels #reelsviral #instagram #influencer #explore #trendinginstagood #trend #reelsvideo #video #viral #instareels #instagramvideo #instavideo #reelsinstagram #tiktok #memes\n",
      "-------------------------------------------------------------------------------------------------------------\n",
      "Tag/share your kofta partner❤#reels #instadaily #reelsinsta #reelsofinstagram #travel #reel #viralreels #photography #love #instagramreels #reelsviral #instagram #influencer #explore #trendinginstagood #trend #reelsvideo #video #viral #instareels #instagramvideo #instavideo #reelsinstagram #tiktok #memes\n",
      "-------------------------------------------------------------------------------------------------------------\n",
      "Tag/Share a chowmein lover💝#reels #instadaily #reelsinsta #reelsofinstagram #travel #reel #viralreels #photography #love #instagramreels #reelsviral #instagram #influencer #explore #trendinginstagood #trend #reelsvideo #video #viral #instareels #instagramvideo #instavideo #reelsinstagram #tiktok #memes #followforfollowback\n",
      "-------------------------------------------------------------------------------------------------------------\n",
      "Every Girl's love. TAG/SHARE a foodie ❤#reels #instadaily #reelsinsta #reelsofinstagram #travel #reel #viralreels #photography #love #instagramreels #reelsviral #instagram #influencer #explore #trendinginstagood #trend #reelsvideo #video #viral #instareels #instagramvideo #memes deo #reelsinstagram #tiktok #reelkarofeelkaro\n",
      "-------------------------------------------------------------------------------------------------------------\n",
      "Tag/Share a momos lover💝#reels #instadaily #reelsinsta #reelsofinstagram #travel #reel #viralreels #photography #love #instagramreels #reelsviral #instagram #influencer #explore #trendinginstagood #trend #reelsvideo #video #viral #instareels #instagramvideo #instavideo #reelsinstagram #tiktok #memes #momos\n",
      "-------------------------------------------------------------------------------------------------------------\n",
      "Tag/share Besan Ladoo lover💝#reels #instadaily #reelsinsta #reelsofinstagram #travel #reel #viralreels #photography #love #instagramreels #reelsviral #instagram #influencer #explore #trendinginstagood #trend #reelsvideo #video #viral #instareels #instagramvideo #instavideo #reelsinstagram #tiktok #memes #followforfollowback\n",
      "-------------------------------------------------------------------------------------------------------------\n",
      "Coconut Stuffed Idli | Rajo special#tastyfoodrecipies #FOODIESOFINSTAGRAM #cookwithme #foodbloggers#foodphotographer #foodphotography #followforfollowback #followｍe #hashtags #hashtag #foodstagram #youtube #instagram #foodstylist #eatingfortheinsta #easytomake #foodlover #foodie #likeit #delhiblogger #bloggersofinstagram #insta #igtv #igtvfollow\n",
      "-------------------------------------------------------------------------------------------------------------\n",
      "Thank you my insta family for 2k followers. Plz keep supporting me😊💝#reels #instadaily #reelsinsta #reelsofinstagram #travel #reel #viralreels #photography #love #instagramreels #reelsviral #instagram #influencer #explore #trendinginstagood #trend #reelsvideo #video #viral #instareels #instagramvideo #instavideo #reelsinstagram #tiktok #memes #followforfollowback\n",
      "-------------------------------------------------------------------------------------------------------------\n",
      "Chandrakanti pitha recipe | Rajo special#instagood #instagram #explorepage #blogger #follow4followback #trending #video #instagramers #youtube #trend #comment #monday #reelsinstagram #share #foryou #influencer #fyp #youtuber #facebook #tv #instalife #socialmedia #hashtag #instagrammers #foryoupage #famous #entertainment #videos #viralvideos #followforfollowback\n",
      "-------------------------------------------------------------------------------------------------------------\n",
      "Tag/share a Chat lover❤#reels #instadaily #reelsinsta #reelsofinstagram #travel #reel #viralreels #photography #love #instagramreels #reelsviral #instagram #influencer #explore #trendinginstagood #trend #reelsvideo #video #viral #instareels #instagramvideo #instavideo #reelsinstagram #tiktok #memes #followforfollowback\n",
      "-------------------------------------------------------------------------------------------------------------\n",
      "Tag/share a maggie lover❤#reels #instadaily #reelsinsta #reelsofinstagram #travel #reel #viralreels #photography #love #instagramreels #reelsviral #instagram #influencer #explore #trendinginstagood #trend #reelsvideo #video #viral #instareels #instagramvideo #instavideo #reelsinstagram #tiktok #memes\n",
      "-------------------------------------------------------------------------------------------------------------\n",
      "Tag/share your kofta partner❤#reels #instadaily #reelsinsta #reelsofinstagram #travel #reel #viralreels #photography #love #instagramreels #reelsviral #instagram #influencer #explore #trendinginstagood #trend #reelsvideo #video #viral #instareels #instagramvideo #instavideo #reelsinstagram #tiktok #memes\n",
      "-------------------------------------------------------------------------------------------------------------\n",
      "Tag/Share a chowmein lover💝#reels #instadaily #reelsinsta #reelsofinstagram #travel #reel #viralreels #photography #love #instagramreels #reelsviral #instagram #influencer #explore #trendinginstagood #trend #reelsvideo #video #viral #instareels #instagramvideo #instavideo #reelsinstagram #tiktok #memes #followforfollowback\n",
      "-------------------------------------------------------------------------------------------------------------\n",
      "Every Girl's love. TAG/SHARE a foodie ❤#reels #instadaily #reelsinsta #reelsofinstagram #travel #reel #viralreels #photography #love #instagramreels #reelsviral #instagram #influencer #explore #trendinginstagood #trend #reelsvideo #video #viral #instareels #instagramvideo #memes deo #reelsinstagram #tiktok #reelkarofeelkaro\n",
      "-------------------------------------------------------------------------------------------------------------\n",
      "Tag/Share a momos lover💝#reels #instadaily #reelsinsta #reelsofinstagram #travel #reel #viralreels #photography #love #instagramreels #reelsviral #instagram #influencer #explore #trendinginstagood #trend #reelsvideo #video #viral #instareels #instagramvideo #instavideo #reelsinstagram #tiktok #memes #momos\n",
      "-------------------------------------------------------------------------------------------------------------\n",
      "Tag/share Besan Ladoo lover💝#reels #instadaily #reelsinsta #reelsofinstagram #travel #reel #viralreels #photography #love #instagramreels #reelsviral #instagram #influencer #explore #trendinginstagood #trend #reelsvideo #video #viral #instareels #instagramvideo #instavideo #reelsinstagram #tiktok #memes #followforfollowback\n",
      "-------------------------------------------------------------------------------------------------------------\n",
      "Coconut Stuffed Idli | Rajo special#tastyfoodrecipies #FOODIESOFINSTAGRAM #cookwithme #foodbloggers#foodphotographer #foodphotography #followforfollowback #followｍe #hashtags #hashtag #foodstagram #youtube #instagram #foodstylist #eatingfortheinsta #easytomake #foodlover #foodie #likeit #delhiblogger #bloggersofinstagram #insta #igtv #igtvfollow\n",
      "-------------------------------------------------------------------------------------------------------------\n",
      "Thank you my insta family for 2k followers. Plz keep supporting me😊💝#reels #instadaily #reelsinsta #reelsofinstagram #travel #reel #viralreels #photography #love #instagramreels #reelsviral #instagram #influencer #explore #trendinginstagood #trend #reelsvideo #video #viral #instareels #instagramvideo #instavideo #reelsinstagram #tiktok #memes #followforfollowback\n",
      "-------------------------------------------------------------------------------------------------------------\n",
      "Chandrakanti pitha recipe | Rajo special#instagood #instagram #explorepage #blogger #follow4followback #trending #video #instagramers #youtube #trend #comment #monday #reelsinstagram #share #foryou #influencer #fyp #youtuber #facebook #tv #instalife #socialmedia #hashtag #instagrammers #foryoupage #famous #entertainment #videos #viralvideos #followforfollowback\n",
      "-------------------------------------------------------------------------------------------------------------\n",
      "Tag/share a Chat lover❤#reels #instadaily #reelsinsta #reelsofinstagram #travel #reel #viralreels #photography #love #instagramreels #reelsviral #instagram #influencer #explore #trendinginstagood #trend #reelsvideo #video #viral #instareels #instagramvideo #instavideo #reelsinstagram #tiktok #memes #followforfollowback\n",
      "-------------------------------------------------------------------------------------------------------------\n",
      "Tag/share a maggie lover❤#reels #instadaily #reelsinsta #reelsofinstagram #travel #reel #viralreels #photography #love #instagramreels #reelsviral #instagram #influencer #explore #trendinginstagood #trend #reelsvideo #video #viral #instareels #instagramvideo #instavideo #reelsinstagram #tiktok #memes\n",
      "-------------------------------------------------------------------------------------------------------------\n",
      "Tag/share your kofta partner❤#reels #instadaily #reelsinsta #reelsofinstagram #travel #reel #viralreels #photography #love #instagramreels #reelsviral #instagram #influencer #explore #trendinginstagood #trend #reelsvideo #video #viral #instareels #instagramvideo #instavideo #reelsinstagram #tiktok #memes\n",
      "-------------------------------------------------------------------------------------------------------------\n",
      "Tag/Share a chowmein lover💝#reels #instadaily #reelsinsta #reelsofinstagram #travel #reel #viralreels #photography #love #instagramreels #reelsviral #instagram #influencer #explore #trendinginstagood #trend #reelsvideo #video #viral #instareels #instagramvideo #instavideo #reelsinstagram #tiktok #memes #followforfollowback\n",
      "-------------------------------------------------------------------------------------------------------------\n",
      "Every Girl's love. TAG/SHARE a foodie ❤#reels #instadaily #reelsinsta #reelsofinstagram #travel #reel #viralreels #photography #love #instagramreels #reelsviral #instagram #influencer #explore #trendinginstagood #trend #reelsvideo #video #viral #instareels #instagramvideo #memes deo #reelsinstagram #tiktok #reelkarofeelkaro\n",
      "-------------------------------------------------------------------------------------------------------------\n",
      "Tag/Share a momos lover💝#reels #instadaily #reelsinsta #reelsofinstagram #travel #reel #viralreels #photography #love #instagramreels #reelsviral #instagram #influencer #explore #trendinginstagood #trend #reelsvideo #video #viral #instareels #instagramvideo #instavideo #reelsinstagram #tiktok #memes #momos\n",
      "-------------------------------------------------------------------------------------------------------------\n",
      "Tag/share Besan Ladoo lover💝#reels #instadaily #reelsinsta #reelsofinstagram #travel #reel #viralreels #photography #love #instagramreels #reelsviral #instagram #influencer #explore #trendinginstagood #trend #reelsvideo #video #viral #instareels #instagramvideo #instavideo #reelsinstagram #tiktok #memes #followforfollowback\n",
      "-------------------------------------------------------------------------------------------------------------\n",
      "Coconut Stuffed Idli | Rajo special#tastyfoodrecipies #FOODIESOFINSTAGRAM #cookwithme #foodbloggers#foodphotographer #foodphotography #followforfollowback #followｍe #hashtags #hashtag #foodstagram #youtube #instagram #foodstylist #eatingfortheinsta #easytomake #foodlover #foodie #likeit #delhiblogger #bloggersofinstagram #insta #igtv #igtvfollow\n",
      "-------------------------------------------------------------------------------------------------------------\n",
      "Thank you my insta family for 2k followers. Plz keep supporting me😊💝#reels #instadaily #reelsinsta #reelsofinstagram #travel #reel #viralreels #photography #love #instagramreels #reelsviral #instagram #influencer #explore #trendinginstagood #trend #reelsvideo #video #viral #instareels #instagramvideo #instavideo #reelsinstagram #tiktok #memes #followforfollowback\n",
      "-------------------------------------------------------------------------------------------------------------\n",
      "Chandrakanti pitha recipe | Rajo special#instagood #instagram #explorepage #blogger #follow4followback #trending #video #instagramers #youtube #trend #comment #monday #reelsinstagram #share #foryou #influencer #fyp #youtuber #facebook #tv #instalife #socialmedia #hashtag #instagrammers #foryoupage #famous #entertainment #videos #viralvideos #followforfollowback\n",
      "-------------------------------------------------------------------------------------------------------------\n",
      "Tag/share a Chat lover❤#reels #instadaily #reelsinsta #reelsofinstagram #travel #reel #viralreels #photography #love #instagramreels #reelsviral #instagram #influencer #explore #trendinginstagood #trend #reelsvideo #video #viral #instareels #instagramvideo #instavideo #reelsinstagram #tiktok #memes #followforfollowback\n",
      "-------------------------------------------------------------------------------------------------------------\n",
      "Tag/share a maggie lover❤#reels #instadaily #reelsinsta #reelsofinstagram #travel #reel #viralreels #photography #love #instagramreels #reelsviral #instagram #influencer #explore #trendinginstagood #trend #reelsvideo #video #viral #instareels #instagramvideo #instavideo #reelsinstagram #tiktok #memes\n",
      "-------------------------------------------------------------------------------------------------------------\n",
      "Tag/share your kofta partner❤#reels #instadaily #reelsinsta #reelsofinstagram #travel #reel #viralreels #photography #love #instagramreels #reelsviral #instagram #influencer #explore #trendinginstagood #trend #reelsvideo #video #viral #instareels #instagramvideo #instavideo #reelsinstagram #tiktok #memes\n",
      "-------------------------------------------------------------------------------------------------------------\n"
     ]
    }
   ],
   "source": [
    "#this is the scrapped content of all posts\n",
    "for i in content:\n",
    "    print(i)\n",
    "    print(\"-------------------------------------------------------------------------------------------------------------\")"
   ]
  },
  {
   "cell_type": "markdown",
   "metadata": {},
   "source": [
    "# Q2.2. Preparing a list of all words used in all the scraped posts and calculating the frequency of each word."
   ]
  },
  {
   "cell_type": "code",
   "execution_count": 179,
   "metadata": {},
   "outputs": [],
   "source": [
    "#here in the question i am considering that \"words\" mean hashtags. because there will be no sense of getting the frequency of all the words in the content.\n",
    "#firstly i will convert the \"hashtags\" list to a numpy array\n",
    "hashtags=np.array(hashtags)\n",
    "hash_tags=[]#it will contain all the actual hashtags, where all the usernames are filtered from the hashtags array\n",
    "for i in hashtags:\n",
    "    if not i[0]=='@' and i!='':\n",
    "        hash_tags.append(i)\n",
    "#now \"hash_tags\" is the actual array which we actually require so we will keep it"
   ]
  },
  {
   "cell_type": "code",
   "execution_count": 180,
   "metadata": {
    "scrolled": true
   },
   "outputs": [
    {
     "data": {
      "text/plain": [
       "{'#reels': 40,\n",
       " '#instadaily': 40,\n",
       " '#reelsinsta': 40,\n",
       " '#reelsofinstagram': 40,\n",
       " '#travel': 40,\n",
       " '#reel': 40,\n",
       " '#viralreels': 40,\n",
       " '#photography': 40,\n",
       " '#love': 40,\n",
       " '#instagramreels': 40,\n",
       " '#reelsviral': 40,\n",
       " '#instagram': 50,\n",
       " '#influencer': 45,\n",
       " '#explore': 40,\n",
       " '#trendinginstagood': 40,\n",
       " '#trend': 45,\n",
       " '#reelsvideo': 40,\n",
       " '#video': 45,\n",
       " '#viral': 40,\n",
       " '#instareels': 40,\n",
       " '#instagramvideo': 40,\n",
       " '#instavideo': 35,\n",
       " '#reelsinstagram': 45,\n",
       " '#tiktok': 40,\n",
       " '#memes': 40,\n",
       " '#followforfollowback': 30,\n",
       " '#reelkarofeelkaro': 5,\n",
       " '#momos': 5,\n",
       " '#tastyfoodrecipies': 5,\n",
       " '#FOODIESOFINSTAGRAM': 5,\n",
       " '#cookwithme': 5,\n",
       " '#foodbloggers': 5,\n",
       " '#foodphotographer': 5,\n",
       " '#foodphotography': 5,\n",
       " '#followｍe': 5,\n",
       " '#hashtags': 5,\n",
       " '#hashtag': 10,\n",
       " '#foodstagram': 5,\n",
       " '#youtube': 10,\n",
       " '#foodstylist': 5,\n",
       " '#eatingfortheinsta': 5,\n",
       " '#easytomake': 5,\n",
       " '#foodlover': 5,\n",
       " '#foodie': 5,\n",
       " '#likeit': 5,\n",
       " '#delhiblogger': 5,\n",
       " '#bloggersofinstagram': 5,\n",
       " '#insta': 5,\n",
       " '#igtv': 5,\n",
       " '#igtvfollow': 5,\n",
       " '#instagood': 5,\n",
       " '#explorepage': 5,\n",
       " '#blogger': 5,\n",
       " '#follow4followback': 5,\n",
       " '#trending': 5,\n",
       " '#instagramers': 5,\n",
       " '#comment': 5,\n",
       " '#monday': 5,\n",
       " '#share': 5,\n",
       " '#foryou': 5,\n",
       " '#fyp': 5,\n",
       " '#youtuber': 5,\n",
       " '#facebook': 5,\n",
       " '#tv': 5,\n",
       " '#instalife': 5,\n",
       " '#socialmedia': 5,\n",
       " '#instagrammers': 5,\n",
       " '#foryoupage': 5,\n",
       " '#famous': 5,\n",
       " '#entertainment': 5,\n",
       " '#videos': 5,\n",
       " '#viralvideos': 5}"
      ]
     },
     "execution_count": 180,
     "metadata": {},
     "output_type": "execute_result"
    }
   ],
   "source": [
    "dic=dict()#this will store the frequencies of all the hashtags\n",
    "for i in hash_tags:\n",
    "    if i in dic.keys():\n",
    "        dic[i]+=1\n",
    "    else:\n",
    "        dic[i]=1\n",
    "dic\n",
    "#this is our dictionary which contains all the frequencies of the hashtags"
   ]
  },
  {
   "cell_type": "markdown",
   "metadata": {},
   "source": [
    "# Q2.3. Creating a csv file with two columns : the word and its frequency"
   ]
  },
  {
   "cell_type": "code",
   "execution_count": 181,
   "metadata": {},
   "outputs": [],
   "source": [
    "\n",
    "hash_word=np.array([i[1:] for i in dic.keys()])\n",
    "frequency=np.array([i for i in dic.values()])\n",
    "df=pd.DataFrame()\n",
    "df['Words']=hash_word\n",
    "df['Frequency']=frequency\n",
    "df.to_csv('Hashtag_Frequencies.csv')\n",
    "#hence the file is saved in the working directory"
   ]
  },
  {
   "cell_type": "markdown",
   "metadata": {},
   "source": [
    "# 2.4. Finding the hashtags that were most popular among these bloggers"
   ]
  },
  {
   "cell_type": "code",
   "execution_count": 182,
   "metadata": {},
   "outputs": [],
   "source": [
    "#we have the two arrays named hash_word and frequency.\n",
    "#we will first arrange them in descending order and then print the hashtags that were most popular among them."
   ]
  },
  {
   "cell_type": "code",
   "execution_count": 184,
   "metadata": {
    "scrolled": true
   },
   "outputs": [
    {
     "name": "stdout",
     "output_type": "stream",
     "text": [
      "#instagram -----> 50 times\n",
      "#video -----> 45 times\n",
      "#influencer -----> 45 times\n",
      "#reelsinstagram -----> 45 times\n",
      "#trend -----> 45 times\n",
      "#reelsviral -----> 40 times\n",
      "#love -----> 40 times\n",
      "#photography -----> 40 times\n",
      "#viralreels -----> 40 times\n",
      "#instadaily -----> 40 times\n",
      "#travel -----> 40 times\n",
      "#reelsofinstagram -----> 40 times\n",
      "#instagramreels -----> 40 times\n",
      "#reel -----> 40 times\n",
      "#reelsinsta -----> 40 times\n",
      "#reels -----> 40 times\n",
      "#memes -----> 40 times\n",
      "#trendinginstagood -----> 40 times\n",
      "#explore -----> 40 times\n",
      "#reelsvideo -----> 40 times\n",
      "#viral -----> 40 times\n",
      "#instareels -----> 40 times\n",
      "#instagramvideo -----> 40 times\n",
      "#tiktok -----> 40 times\n",
      "#instavideo -----> 35 times\n",
      "#followforfollowback -----> 30 times\n",
      "#youtube -----> 10 times\n",
      "#hashtag -----> 10 times\n",
      "#foodstylist -----> 5 times\n",
      "#followｍe -----> 5 times\n",
      "#reelkarofeelkaro -----> 5 times\n",
      "#momos -----> 5 times\n",
      "#tastyfoodrecipies -----> 5 times\n",
      "#FOODIESOFINSTAGRAM -----> 5 times\n",
      "#cookwithme -----> 5 times\n",
      "#foodbloggers -----> 5 times\n",
      "#hashtags -----> 5 times\n",
      "#foodphotography -----> 5 times\n",
      "#insta -----> 5 times\n",
      "#follow4followback -----> 5 times\n",
      "#blogger -----> 5 times\n",
      "#explorepage -----> 5 times\n",
      "#instagood -----> 5 times\n",
      "#igtvfollow -----> 5 times\n",
      "#igtv -----> 5 times\n",
      "#bloggersofinstagram -----> 5 times\n",
      "#instagramers -----> 5 times\n",
      "#delhiblogger -----> 5 times\n",
      "#likeit -----> 5 times\n",
      "#foodie -----> 5 times\n",
      "#foodlover -----> 5 times\n",
      "#easytomake -----> 5 times\n",
      "#eatingfortheinsta -----> 5 times\n",
      "#trending -----> 5 times\n",
      "#entertainment -----> 5 times\n",
      "#viralvideos -----> 5 times\n",
      "#fyp -----> 5 times\n",
      "#videos -----> 5 times\n",
      "#facebook -----> 5 times\n",
      "#comment -----> 5 times\n",
      "#monday -----> 5 times\n",
      "#share -----> 5 times\n",
      "#foryou -----> 5 times\n",
      "#youtuber -----> 5 times\n",
      "#famous -----> 5 times\n",
      "#tv -----> 5 times\n",
      "#foodstagram -----> 5 times\n",
      "#instalife -----> 5 times\n",
      "#socialmedia -----> 5 times\n",
      "#instagrammers -----> 5 times\n",
      "#foryoupage -----> 5 times\n",
      "#foodphotographer -----> 5 times\n"
     ]
    }
   ],
   "source": [
    "hash_word=hash_word[np.argsort(frequency)][::-1]\n",
    "frequency=frequency[np.argsort(frequency)][::-1]\n",
    "for i in range(len(hash_word)):\n",
    "    print('#'+hash_word[i], \"----->\", frequency[i], \"times\")"
   ]
  },
  {
   "cell_type": "markdown",
   "metadata": {},
   "source": [
    "# Q2.5. Plotting a Pie Chart of the top 5 hashtags obtained and the number of times they were used by these bloggers in the scraped posts."
   ]
  },
  {
   "cell_type": "code",
   "execution_count": 185,
   "metadata": {
    "scrolled": false
   },
   "outputs": [
    {
     "data": {
      "image/png": "[encoded data removed]",
      "text/plain": [
       "<Figure size 720x720 with 1 Axes>"
      ]
     },
     "metadata": {},
     "output_type": "display_data"
    }
   ],
   "source": [
    "x=hash_word[:5]\n",
    "y=frequency[:5]\n",
    "plt.figure(figsize=(10, 10))\n",
    "plt.pie(y, labels=x, autopct='%.2f%%', shadow=True, labeldistance=1.2)\n",
    "plt.title('Pie Chart of the top 5 hashtags ')\n",
    "plt.show()"
   ]
  },
  {
   "cell_type": "code",
   "execution_count": null,
   "metadata": {},
   "outputs": [],
   "source": []
  },
  {
   "cell_type": "markdown",
   "metadata": {},
   "source": [
    "# Note:- Since now, instagram has given feature to hide the likes, this code was working when I performed this project.. i'm sharing earlier screenshots of graphs of likes in the repository\n",
    "\n",
    "\n",
    "# -----------------------------------------------------------------------------------------------------------"
   ]
  },
  {
   "cell_type": "markdown",
   "metadata": {},
   "source": [
    "# 3.1. Finding out the likes of the top 10 posts of the 5 handles obtained earlier."
   ]
  },
  {
   "cell_type": "code",
   "execution_count": 187,
   "metadata": {
    "scrolled": true
   },
   "outputs": [
    {
     "name": "stdout",
     "output_type": "stream",
     "text": [
      "tasty.foodrecipes----> "
     ]
    },
    {
     "ename": "TimeoutException",
     "evalue": "Message: \n",
     "output_type": "error",
     "traceback": [
      "\u001b[1;31m---------------------------------------------------------------------------\u001b[0m",
      "\u001b[1;31mTimeoutException\u001b[0m                          Traceback (most recent call last)",
      "\u001b[1;32m<ipython-input-187-01c6778e025a>\u001b[0m in \u001b[0;36m<module>\u001b[1;34m\u001b[0m\n\u001b[0;32m     16\u001b[0m         \u001b[1;32mtry\u001b[0m\u001b[1;33m:\u001b[0m\u001b[1;33m\u001b[0m\u001b[1;33m\u001b[0m\u001b[0m\n\u001b[1;32m---> 17\u001b[1;33m             \u001b[0mWebDriverWait\u001b[0m\u001b[1;33m(\u001b[0m\u001b[0mdriver\u001b[0m\u001b[1;33m,\u001b[0m \u001b[1;36m10\u001b[0m\u001b[1;33m)\u001b[0m\u001b[1;33m.\u001b[0m\u001b[0muntil\u001b[0m\u001b[1;33m(\u001b[0m\u001b[0mEC\u001b[0m\u001b[1;33m.\u001b[0m\u001b[0mpresence_of_element_located\u001b[0m\u001b[1;33m(\u001b[0m\u001b[1;33m(\u001b[0m\u001b[0mBy\u001b[0m\u001b[1;33m.\u001b[0m\u001b[0mXPATH\u001b[0m\u001b[1;33m,\u001b[0m \u001b[1;34m'//div[@class=\"Nm9Fw\"]/button[contains(@class, \"_0mzm-\")]/span'\u001b[0m\u001b[1;33m)\u001b[0m\u001b[1;33m)\u001b[0m\u001b[1;33m)\u001b[0m\u001b[1;33m\u001b[0m\u001b[1;33m\u001b[0m\u001b[0m\n\u001b[0m\u001b[0;32m     18\u001b[0m             \u001b[0mlikes\u001b[0m\u001b[1;33m+=\u001b[0m\u001b[0mint\u001b[0m\u001b[1;33m(\u001b[0m\u001b[1;34m\"\"\u001b[0m\u001b[1;33m.\u001b[0m\u001b[0mjoin\u001b[0m\u001b[1;33m(\u001b[0m\u001b[0mdriver\u001b[0m\u001b[1;33m.\u001b[0m\u001b[0mfind_element_by_xpath\u001b[0m\u001b[1;33m(\u001b[0m\u001b[1;34m'//div[@class=\"Nm9Fw\"]/button[contains(@class, \"_0mzm-\")]/span'\u001b[0m\u001b[1;33m)\u001b[0m\u001b[1;33m.\u001b[0m\u001b[0mget_attribute\u001b[0m\u001b[1;33m(\u001b[0m\u001b[1;34m'innerHTML'\u001b[0m\u001b[1;33m)\u001b[0m\u001b[1;33m.\u001b[0m\u001b[0msplit\u001b[0m\u001b[1;33m(\u001b[0m\u001b[1;34m','\u001b[0m\u001b[1;33m)\u001b[0m\u001b[1;33m)\u001b[0m\u001b[1;33m)\u001b[0m\u001b[1;33m\u001b[0m\u001b[1;33m\u001b[0m\u001b[0m\n",
      "\u001b[1;32m~\\anaconda3\\lib\\site-packages\\selenium\\webdriver\\support\\wait.py\u001b[0m in \u001b[0;36muntil\u001b[1;34m(self, method, message)\u001b[0m\n\u001b[0;32m     79\u001b[0m                 \u001b[1;32mbreak\u001b[0m\u001b[1;33m\u001b[0m\u001b[1;33m\u001b[0m\u001b[0m\n\u001b[1;32m---> 80\u001b[1;33m         \u001b[1;32mraise\u001b[0m \u001b[0mTimeoutException\u001b[0m\u001b[1;33m(\u001b[0m\u001b[0mmessage\u001b[0m\u001b[1;33m,\u001b[0m \u001b[0mscreen\u001b[0m\u001b[1;33m,\u001b[0m \u001b[0mstacktrace\u001b[0m\u001b[1;33m)\u001b[0m\u001b[1;33m\u001b[0m\u001b[1;33m\u001b[0m\u001b[0m\n\u001b[0m\u001b[0;32m     81\u001b[0m \u001b[1;33m\u001b[0m\u001b[0m\n",
      "\u001b[1;31mTimeoutException\u001b[0m: Message: \n",
      "\nDuring handling of the above exception, another exception occurred:\n",
      "\u001b[1;31mTimeoutException\u001b[0m                          Traceback (most recent call last)",
      "\u001b[1;32m<ipython-input-187-01c6778e025a>\u001b[0m in \u001b[0;36m<module>\u001b[1;34m\u001b[0m\n\u001b[0;32m     18\u001b[0m             \u001b[0mlikes\u001b[0m\u001b[1;33m+=\u001b[0m\u001b[0mint\u001b[0m\u001b[1;33m(\u001b[0m\u001b[1;34m\"\"\u001b[0m\u001b[1;33m.\u001b[0m\u001b[0mjoin\u001b[0m\u001b[1;33m(\u001b[0m\u001b[0mdriver\u001b[0m\u001b[1;33m.\u001b[0m\u001b[0mfind_element_by_xpath\u001b[0m\u001b[1;33m(\u001b[0m\u001b[1;34m'//div[@class=\"Nm9Fw\"]/button[contains(@class, \"_0mzm-\")]/span'\u001b[0m\u001b[1;33m)\u001b[0m\u001b[1;33m.\u001b[0m\u001b[0mget_attribute\u001b[0m\u001b[1;33m(\u001b[0m\u001b[1;34m'innerHTML'\u001b[0m\u001b[1;33m)\u001b[0m\u001b[1;33m.\u001b[0m\u001b[0msplit\u001b[0m\u001b[1;33m(\u001b[0m\u001b[1;34m','\u001b[0m\u001b[1;33m)\u001b[0m\u001b[1;33m)\u001b[0m\u001b[1;33m)\u001b[0m\u001b[1;33m\u001b[0m\u001b[1;33m\u001b[0m\u001b[0m\n\u001b[0;32m     19\u001b[0m         \u001b[1;32mexcept\u001b[0m \u001b[0mTimeoutException\u001b[0m\u001b[1;33m:\u001b[0m\u001b[1;33m\u001b[0m\u001b[1;33m\u001b[0m\u001b[0m\n\u001b[1;32m---> 20\u001b[1;33m             \u001b[0mWebDriverWait\u001b[0m\u001b[1;33m(\u001b[0m\u001b[0mdriver\u001b[0m\u001b[1;33m,\u001b[0m \u001b[1;36m10\u001b[0m\u001b[1;33m)\u001b[0m\u001b[1;33m.\u001b[0m\u001b[0muntil\u001b[0m\u001b[1;33m(\u001b[0m\u001b[0mEC\u001b[0m\u001b[1;33m.\u001b[0m\u001b[0mpresence_of_element_located\u001b[0m\u001b[1;33m(\u001b[0m\u001b[1;33m(\u001b[0m\u001b[0mBy\u001b[0m\u001b[1;33m.\u001b[0m\u001b[0mXPATH\u001b[0m\u001b[1;33m,\u001b[0m \u001b[1;34m'//div[contains(@class, \"HbPOm\")]/span[contains(@class, \"vcOH2\")]/span'\u001b[0m\u001b[1;33m)\u001b[0m\u001b[1;33m)\u001b[0m\u001b[1;33m)\u001b[0m\u001b[1;33m\u001b[0m\u001b[1;33m\u001b[0m\u001b[0m\n\u001b[0m\u001b[0;32m     21\u001b[0m             \u001b[0mlikes\u001b[0m\u001b[1;33m+=\u001b[0m\u001b[0mint\u001b[0m\u001b[1;33m(\u001b[0m\u001b[1;34m\"\"\u001b[0m\u001b[1;33m.\u001b[0m\u001b[0mjoin\u001b[0m\u001b[1;33m(\u001b[0m\u001b[0mdriver\u001b[0m\u001b[1;33m.\u001b[0m\u001b[0mfind_element_by_xpath\u001b[0m\u001b[1;33m(\u001b[0m\u001b[1;34m'//div[contains(@class, \"HbPOm\")]/span[contains(@class, \"vcOH2\")]/span'\u001b[0m\u001b[1;33m)\u001b[0m\u001b[1;33m.\u001b[0m\u001b[0mget_attribute\u001b[0m\u001b[1;33m(\u001b[0m\u001b[1;34m'innerHTML'\u001b[0m\u001b[1;33m)\u001b[0m\u001b[1;33m.\u001b[0m\u001b[0msplit\u001b[0m\u001b[1;33m(\u001b[0m\u001b[1;34m','\u001b[0m\u001b[1;33m)\u001b[0m\u001b[1;33m)\u001b[0m\u001b[1;33m)\u001b[0m\u001b[1;33m\u001b[0m\u001b[1;33m\u001b[0m\u001b[0m\n\u001b[0;32m     22\u001b[0m         \u001b[0mcount\u001b[0m\u001b[1;33m+=\u001b[0m\u001b[1;36m1\u001b[0m\u001b[1;33m\u001b[0m\u001b[1;33m\u001b[0m\u001b[0m\n",
      "\u001b[1;32m~\\anaconda3\\lib\\site-packages\\selenium\\webdriver\\support\\wait.py\u001b[0m in \u001b[0;36muntil\u001b[1;34m(self, method, message)\u001b[0m\n\u001b[0;32m     78\u001b[0m             \u001b[1;32mif\u001b[0m \u001b[0mtime\u001b[0m\u001b[1;33m.\u001b[0m\u001b[0mtime\u001b[0m\u001b[1;33m(\u001b[0m\u001b[1;33m)\u001b[0m \u001b[1;33m>\u001b[0m \u001b[0mend_time\u001b[0m\u001b[1;33m:\u001b[0m\u001b[1;33m\u001b[0m\u001b[1;33m\u001b[0m\u001b[0m\n\u001b[0;32m     79\u001b[0m                 \u001b[1;32mbreak\u001b[0m\u001b[1;33m\u001b[0m\u001b[1;33m\u001b[0m\u001b[0m\n\u001b[1;32m---> 80\u001b[1;33m         \u001b[1;32mraise\u001b[0m \u001b[0mTimeoutException\u001b[0m\u001b[1;33m(\u001b[0m\u001b[0mmessage\u001b[0m\u001b[1;33m,\u001b[0m \u001b[0mscreen\u001b[0m\u001b[1;33m,\u001b[0m \u001b[0mstacktrace\u001b[0m\u001b[1;33m)\u001b[0m\u001b[1;33m\u001b[0m\u001b[1;33m\u001b[0m\u001b[0m\n\u001b[0m\u001b[0;32m     81\u001b[0m \u001b[1;33m\u001b[0m\u001b[0m\n\u001b[0;32m     82\u001b[0m     \u001b[1;32mdef\u001b[0m \u001b[0muntil_not\u001b[0m\u001b[1;33m(\u001b[0m\u001b[0mself\u001b[0m\u001b[1;33m,\u001b[0m \u001b[0mmethod\u001b[0m\u001b[1;33m,\u001b[0m \u001b[0mmessage\u001b[0m\u001b[1;33m=\u001b[0m\u001b[1;34m''\u001b[0m\u001b[1;33m)\u001b[0m\u001b[1;33m:\u001b[0m\u001b[1;33m\u001b[0m\u001b[1;33m\u001b[0m\u001b[0m\n",
      "\u001b[1;31mTimeoutException\u001b[0m: Message: \n"
     ]
    }
   ],
   "source": [
    "like=[]\n",
    "for user in top5:\n",
    "    print(user, end=\"----> \")\n",
    "    time.sleep(3)\n",
    "    driver.find_element_by_xpath('//span[contains(@class, \"TqC_a\")]').click()\n",
    "    driver.find_element_by_xpath('//input[contains(@class, \"XTCLo\")]').send_keys(user)\n",
    "    WebDriverWait(driver, 10).until(EC.presence_of_element_located((By.XPATH, '//div[@class=\"_7UhW9   xLCgt       qyrsm KV-D4          uL8Hv         \"]')))\n",
    "    driver.find_element_by_xpath('//div[@class=\"_7UhW9   xLCgt       qyrsm KV-D4          uL8Hv         \"]').click()\n",
    "    WebDriverWait(driver, 10).until(EC.presence_of_element_located((By.XPATH, '//div[@class=\"_9AhH0\"]')))\n",
    "    time.sleep(1)\n",
    "    count=0\n",
    "    likes=0\n",
    "    for i in driver.find_elements_by_xpath('//div[@class=\"_9AhH0\"]'):\n",
    "        i.click()\n",
    "        #clicks on the post of the user being iterated.\n",
    "        try:\n",
    "            WebDriverWait(driver, 10).until(EC.presence_of_element_located((By.XPATH, '//div[@class=\"Nm9Fw\"]/button[contains(@class, \"_0mzm-\")]/span')))\n",
    "            likes+=int(\"\".join(driver.find_element_by_xpath('//div[@class=\"Nm9Fw\"]/button[contains(@class, \"_0mzm-\")]/span').get_attribute('innerHTML').split(',')))\n",
    "        except TimeoutException:\n",
    "            WebDriverWait(driver, 10).until(EC.presence_of_element_located((By.XPATH, '//div[contains(@class, \"HbPOm\")]/span[contains(@class, \"vcOH2\")]/span')))\n",
    "            likes+=int(\"\".join(driver.find_element_by_xpath('//div[contains(@class, \"HbPOm\")]/span[contains(@class, \"vcOH2\")]/span').get_attribute('innerHTML').split(',')))\n",
    "        count+=1\n",
    "        if count>=10:\n",
    "            close = driver.find_element_by_xpath('//div[@class= \"                     Igw0E     IwRSH      eGOV_         _4EzTm                                                                                  BI4qX            qJPeX            fm1AK   TxciK yiMZG\"]/button')\n",
    "            close.click()\n",
    "            break\n",
    "        close = driver.find_element_by_xpath('//div[@class= \"                     Igw0E     IwRSH      eGOV_         _4EzTm                                                                                  BI4qX            qJPeX            fm1AK   TxciK yiMZG\"]/button')\n",
    "        close.click()\n",
    "        time.sleep(1)\n",
    "    print(\"total\", likes, \"likes on 10 latest posts\")\n",
    "    like.append(likes)"
   ]
  },
  {
   "cell_type": "code",
   "execution_count": null,
   "metadata": {},
   "outputs": [],
   "source": []
  },
  {
   "cell_type": "code",
   "execution_count": null,
   "metadata": {},
   "outputs": [],
   "source": [
    "top5=np.array(top5)\n",
    "top5"
   ]
  },
  {
   "cell_type": "code",
   "execution_count": null,
   "metadata": {},
   "outputs": [],
   "source": [
    "like=np.array(like)\n",
    "#likes on the top 10 posts for those 5 users\n",
    "like"
   ]
  },
  {
   "cell_type": "code",
   "execution_count": null,
   "metadata": {},
   "outputs": [],
   "source": [
    "followers[0:5]\n",
    "#followers of those 5 users"
   ]
  },
  {
   "cell_type": "markdown",
   "metadata": {},
   "source": [
    "# 3.2. Calculating the average likes for a handle."
   ]
  },
  {
   "cell_type": "code",
   "execution_count": null,
   "metadata": {},
   "outputs": [],
   "source": [
    "average_likes=like/10\n",
    "average_likes\n",
    "#these are the average likes of the respective 5 users."
   ]
  },
  {
   "cell_type": "markdown",
   "metadata": {},
   "source": [
    "# 3.3. Dividing the average likes obtained from the number of followers of the handle to get the average followers:like ratio of each handle"
   ]
  },
  {
   "cell_type": "code",
   "execution_count": null,
   "metadata": {},
   "outputs": [],
   "source": [
    "#for getting average followers to likes ratio\n",
    "ratio=followers[0:5]/average_likes\n",
    "ratio"
   ]
  },
  {
   "cell_type": "markdown",
   "metadata": {},
   "source": [
    "# 3.4. Creating a bar graph to depict the above obtained information."
   ]
  },
  {
   "cell_type": "code",
   "execution_count": null,
   "metadata": {},
   "outputs": [],
   "source": [
    "#plotting the graph between average followers to the likes ratio and users.\n",
    "plt.figure(figsize=(10,7))\n",
    "plt.bar(top5, ratio, color='orange')\n",
    "plt.xticks(rotation=45, size=12)\n",
    "plt.xlabel('Users---->', size=12)\n",
    "plt.ylabel('Average followers to likes ratio---->', size=12)\n",
    "plt.yticks(size=12)\n",
    "plt.grid()\n",
    "plt.show()"
   ]
  }
 ],
 "metadata": {
  "kernelspec": {
   "display_name": "Python 3",
   "language": "python",
   "name": "python3"
  },
  "language_info": {
   "codemirror_mode": {
    "name": "ipython",
    "version": 3
   },
   "file_extension": ".py",
   "mimetype": "text/x-python",
   "name": "python",
   "nbconvert_exporter": "python",
   "pygments_lexer": "ipython3",
   "version": "3.8.3"
  }
 },
 "nbformat": 4,
 "nbformat_minor": 4
}
